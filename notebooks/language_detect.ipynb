{
 "cells": [
  {
   "cell_type": "markdown",
   "id": "60045b76-d24a-4594-999c-7c8974c4e246",
   "metadata": {},
   "source": [
    "## Language Detection  \n",
    "\n",
    "We are interested in analysing the languages in which the tweets were made. We want to just consider English language tweets and we can ignore other tweets for flexibility."
   ]
  },
  {
   "cell_type": "code",
   "execution_count": 1,
   "id": "b8b1f6b6-14b8-41b3-aae3-80f9ce6ae98b",
   "metadata": {},
   "outputs": [],
   "source": [
    "import pandas as pd\n",
    "from langdetect import detect\n",
    "from tqdm import tqdm"
   ]
  },
  {
   "cell_type": "code",
   "execution_count": 2,
   "id": "87c9b96d-6023-4cd6-9151-9dc8714d7e62",
   "metadata": {},
   "outputs": [
    {
     "name": "stderr",
     "output_type": "stream",
     "text": [
      "/var/folders/y1/pm6_lt111h92v74z5vt3_vhh0000gn/T/ipykernel_13981/1084520214.py:1: DtypeWarning: Columns (1,4,8) have mixed types. Specify dtype option on import or set low_memory=False.\n",
      "  df = pd.read_csv('../data/tweets.csv', sep=';', usecols=['user','timestamp','replies','likes', 'retweets','text'])\n"
     ]
    }
   ],
   "source": [
    "df = pd.read_csv('../data/tweets.csv', sep=';', usecols=['user','timestamp','replies','likes', 'retweets','text'])"
   ]
  },
  {
   "cell_type": "code",
   "execution_count": 3,
   "id": "4538dd56-9d22-4ebd-9145-551163da6f7f",
   "metadata": {},
   "outputs": [
    {
     "data": {
      "text/html": [
       "<div>\n",
       "<style scoped>\n",
       "    .dataframe tbody tr th:only-of-type {\n",
       "        vertical-align: middle;\n",
       "    }\n",
       "\n",
       "    .dataframe tbody tr th {\n",
       "        vertical-align: top;\n",
       "    }\n",
       "\n",
       "    .dataframe thead th {\n",
       "        text-align: right;\n",
       "    }\n",
       "</style>\n",
       "<table border=\"1\" class=\"dataframe\">\n",
       "  <thead>\n",
       "    <tr style=\"text-align: right;\">\n",
       "      <th></th>\n",
       "      <th>user</th>\n",
       "      <th>timestamp</th>\n",
       "      <th>replies</th>\n",
       "      <th>likes</th>\n",
       "      <th>retweets</th>\n",
       "      <th>text</th>\n",
       "    </tr>\n",
       "  </thead>\n",
       "  <tbody>\n",
       "    <tr>\n",
       "      <th>0</th>\n",
       "      <td>KamdemAbdiel</td>\n",
       "      <td>2019-05-27 11:49:14+00</td>\n",
       "      <td>0.0</td>\n",
       "      <td>0.0</td>\n",
       "      <td>0.0</td>\n",
       "      <td>È appena uscito un nuovo video! LES CRYPTOMONN...</td>\n",
       "    </tr>\n",
       "    <tr>\n",
       "      <th>1</th>\n",
       "      <td>bitcointe</td>\n",
       "      <td>2019-05-27 11:49:18+00</td>\n",
       "      <td>0.0</td>\n",
       "      <td>0.0</td>\n",
       "      <td>0.0</td>\n",
       "      <td>Cardano: Digitize Currencies; EOS https://t.co...</td>\n",
       "    </tr>\n",
       "    <tr>\n",
       "      <th>2</th>\n",
       "      <td>3eyedbran</td>\n",
       "      <td>2019-05-27 11:49:06+00</td>\n",
       "      <td>0.0</td>\n",
       "      <td>2.0</td>\n",
       "      <td>1.0</td>\n",
       "      <td>Another Test tweet that wasn't caught in the s...</td>\n",
       "    </tr>\n",
       "    <tr>\n",
       "      <th>3</th>\n",
       "      <td>DetroitCrypto</td>\n",
       "      <td>2019-05-27 11:49:22+00</td>\n",
       "      <td>0.0</td>\n",
       "      <td>0.0</td>\n",
       "      <td>0.0</td>\n",
       "      <td>Current Crypto Prices! \\n\\nBTC: $8721.99 USD\\n...</td>\n",
       "    </tr>\n",
       "    <tr>\n",
       "      <th>4</th>\n",
       "      <td>mmursaleen72</td>\n",
       "      <td>2019-05-27 11:49:23+00</td>\n",
       "      <td>0.0</td>\n",
       "      <td>0.0</td>\n",
       "      <td>0.0</td>\n",
       "      <td>Spiv (Nosar Baz): BITCOIN Is An Asset &amp;amp; NO...</td>\n",
       "    </tr>\n",
       "  </tbody>\n",
       "</table>\n",
       "</div>"
      ],
      "text/plain": [
       "            user               timestamp  replies  likes  retweets  \\\n",
       "0   KamdemAbdiel  2019-05-27 11:49:14+00      0.0    0.0       0.0   \n",
       "1      bitcointe  2019-05-27 11:49:18+00      0.0    0.0       0.0   \n",
       "2      3eyedbran  2019-05-27 11:49:06+00      0.0    2.0       1.0   \n",
       "3  DetroitCrypto  2019-05-27 11:49:22+00      0.0    0.0       0.0   \n",
       "4   mmursaleen72  2019-05-27 11:49:23+00      0.0    0.0       0.0   \n",
       "\n",
       "                                                text  \n",
       "0  È appena uscito un nuovo video! LES CRYPTOMONN...  \n",
       "1  Cardano: Digitize Currencies; EOS https://t.co...  \n",
       "2  Another Test tweet that wasn't caught in the s...  \n",
       "3  Current Crypto Prices! \\n\\nBTC: $8721.99 USD\\n...  \n",
       "4  Spiv (Nosar Baz): BITCOIN Is An Asset &amp; NO...  "
      ]
     },
     "execution_count": 3,
     "metadata": {},
     "output_type": "execute_result"
    }
   ],
   "source": [
    "df.head()"
   ]
  },
  {
   "cell_type": "code",
   "execution_count": 4,
   "id": "59ff00f5-07ee-4c10-a693-e4454427b5a8",
   "metadata": {},
   "outputs": [],
   "source": [
    "df['tweet_lang'] = ''"
   ]
  },
  {
   "cell_type": "markdown",
   "id": "c816355c-431a-403b-9eee-e1dc002c6f7b",
   "metadata": {},
   "source": [
    "We are writing below function which will detect the language from the tweet and will populate into the new column"
   ]
  },
  {
   "cell_type": "code",
   "execution_count": 7,
   "id": "310db0c7-1c23-49e4-9dd0-96fff1fbd91a",
   "metadata": {},
   "outputs": [
    {
     "name": "stderr",
     "output_type": "stream",
     "text": [
      "100%|███████████████████████████████████████████████████████████████████████████████████████████████| 20165013/20165013 [16:46:22<00:00, 333.95it/s]\n"
     ]
    }
   ],
   "source": [
    "def detect_language(tweet_text):\n",
    "    try:\n",
    "        lang = detect(tweet_text)\n",
    "    except:\n",
    "        lang = ''\n",
    "    return lang\n",
    "\n",
    "for i in tqdm(range(df.shape[0])):\n",
    "    df.iloc[i, 6] = detect_language(df.iloc[i, 5])"
   ]
  },
  {
   "cell_type": "markdown",
   "id": "9e57c5ad-2314-49af-b88f-0a47ee9f6c2c",
   "metadata": {},
   "source": [
    "There are multiple languages used in the dataset."
   ]
  },
  {
   "cell_type": "code",
   "execution_count": 13,
   "id": "0bfd41e6-a427-4d49-88f4-3bba63dc9b46",
   "metadata": {},
   "outputs": [
    {
     "data": {
      "text/plain": [
       "en       13451608\n",
       "ja        1558742\n",
       "          1497295\n",
       "es         540836\n",
       "de         383392\n",
       "fr         305800\n",
       "tr         301746\n",
       "ro         292049\n",
       "cy         238236\n",
       "pt         188977\n",
       "it         177448\n",
       "id         148549\n",
       "vi         133298\n",
       "nl         128143\n",
       "ca          98192\n",
       "so          77123\n",
       "sq          72012\n",
       "ru          63024\n",
       "sw          50464\n",
       "hr          48232\n",
       "tl          45526\n",
       "fi          42111\n",
       "pl          38335\n",
       "ko          32506\n",
       "af          29563\n",
       "sv          26638\n",
       "no          26503\n",
       "sl          24260\n",
       "da          19368\n",
       "et          18523\n",
       "ar          17961\n",
       "zh-cn       11943\n",
       "bg          11504\n",
       "lv          10778\n",
       "th           9096\n",
       "cs           8399\n",
       "hi           6690\n",
       "sk           6467\n",
       "lt           6122\n",
       "hu           5484\n",
       "fa           3672\n",
       "el           3580\n",
       "mk           1463\n",
       "uk           1089\n",
       "zh-tw         635\n",
       "he            447\n",
       "bn            326\n",
       "ur            216\n",
       "ne            160\n",
       "gu            138\n",
       "ta            130\n",
       "mr             77\n",
       "ml             70\n",
       "te             31\n",
       "kn             20\n",
       "pa             16\n",
       "Name: tweet_lang, dtype: int64"
      ]
     },
     "execution_count": 13,
     "metadata": {},
     "output_type": "execute_result"
    }
   ],
   "source": [
    "df['tweet_lang'].value_counts()"
   ]
  },
  {
   "cell_type": "code",
   "execution_count": 18,
   "id": "a3c35101-596a-4c20-ace5-7fd95971eb88",
   "metadata": {},
   "outputs": [
    {
     "data": {
      "text/html": [
       "<div>\n",
       "<style scoped>\n",
       "    .dataframe tbody tr th:only-of-type {\n",
       "        vertical-align: middle;\n",
       "    }\n",
       "\n",
       "    .dataframe tbody tr th {\n",
       "        vertical-align: top;\n",
       "    }\n",
       "\n",
       "    .dataframe thead th {\n",
       "        text-align: right;\n",
       "    }\n",
       "</style>\n",
       "<table border=\"1\" class=\"dataframe\">\n",
       "  <thead>\n",
       "    <tr style=\"text-align: right;\">\n",
       "      <th></th>\n",
       "      <th>user</th>\n",
       "      <th>timestamp</th>\n",
       "      <th>replies</th>\n",
       "      <th>likes</th>\n",
       "      <th>retweets</th>\n",
       "      <th>text</th>\n",
       "      <th>tweet_lang</th>\n",
       "    </tr>\n",
       "  </thead>\n",
       "  <tbody>\n",
       "    <tr>\n",
       "      <th>0</th>\n",
       "      <td>KamdemAbdiel</td>\n",
       "      <td>2019-05-27 11:49:14+00</td>\n",
       "      <td>0.0</td>\n",
       "      <td>0.0</td>\n",
       "      <td>0.0</td>\n",
       "      <td>È appena uscito un nuovo video! LES CRYPTOMONN...</td>\n",
       "      <td>it</td>\n",
       "    </tr>\n",
       "    <tr>\n",
       "      <th>1</th>\n",
       "      <td>bitcointe</td>\n",
       "      <td>2019-05-27 11:49:18+00</td>\n",
       "      <td>0.0</td>\n",
       "      <td>0.0</td>\n",
       "      <td>0.0</td>\n",
       "      <td>Cardano: Digitize Currencies; EOS https://t.co...</td>\n",
       "      <td>en</td>\n",
       "    </tr>\n",
       "    <tr>\n",
       "      <th>2</th>\n",
       "      <td>3eyedbran</td>\n",
       "      <td>2019-05-27 11:49:06+00</td>\n",
       "      <td>0.0</td>\n",
       "      <td>2.0</td>\n",
       "      <td>1.0</td>\n",
       "      <td>Another Test tweet that wasn't caught in the s...</td>\n",
       "      <td>en</td>\n",
       "    </tr>\n",
       "    <tr>\n",
       "      <th>3</th>\n",
       "      <td>DetroitCrypto</td>\n",
       "      <td>2019-05-27 11:49:22+00</td>\n",
       "      <td>0.0</td>\n",
       "      <td>0.0</td>\n",
       "      <td>0.0</td>\n",
       "      <td>Current Crypto Prices! \\n\\nBTC: $8721.99 USD\\n...</td>\n",
       "      <td>en</td>\n",
       "    </tr>\n",
       "    <tr>\n",
       "      <th>4</th>\n",
       "      <td>mmursaleen72</td>\n",
       "      <td>2019-05-27 11:49:23+00</td>\n",
       "      <td>0.0</td>\n",
       "      <td>0.0</td>\n",
       "      <td>0.0</td>\n",
       "      <td>Spiv (Nosar Baz): BITCOIN Is An Asset &amp;amp; NO...</td>\n",
       "      <td>en</td>\n",
       "    </tr>\n",
       "    <tr>\n",
       "      <th>5</th>\n",
       "      <td>0nurTOKA</td>\n",
       "      <td>2019-05-27 11:49:25+00</td>\n",
       "      <td>0.0</td>\n",
       "      <td>0.0</td>\n",
       "      <td>0.0</td>\n",
       "      <td>#btc inceldiği yerden kopsun bakalım 17:00 ye ...</td>\n",
       "      <td>tr</td>\n",
       "    </tr>\n",
       "    <tr>\n",
       "      <th>6</th>\n",
       "      <td>evilrobotted</td>\n",
       "      <td>2019-05-27 11:49:25+00</td>\n",
       "      <td>0.0</td>\n",
       "      <td>0.0</td>\n",
       "      <td>0.0</td>\n",
       "      <td>@nwoodfine We have been building on the real #...</td>\n",
       "      <td>en</td>\n",
       "    </tr>\n",
       "    <tr>\n",
       "      <th>7</th>\n",
       "      <td>jabur_guilherme</td>\n",
       "      <td>2019-05-27 11:49:27+00</td>\n",
       "      <td>0.0</td>\n",
       "      <td>0.0</td>\n",
       "      <td>0.0</td>\n",
       "      <td>@pedronauck como investidor, vc é um ótimo dev...</td>\n",
       "      <td>pt</td>\n",
       "    </tr>\n",
       "    <tr>\n",
       "      <th>8</th>\n",
       "      <td>INTBICON</td>\n",
       "      <td>2019-05-27 11:49:32+00</td>\n",
       "      <td>0.0</td>\n",
       "      <td>0.0</td>\n",
       "      <td>0.0</td>\n",
       "      <td>ブラジルはまぁ置いといてもドイツは存在感出してくるのかな。ロシアもマイニングなどで元気になる...</td>\n",
       "      <td>ja</td>\n",
       "    </tr>\n",
       "    <tr>\n",
       "      <th>9</th>\n",
       "      <td>MLWright15</td>\n",
       "      <td>2019-05-27 11:49:32+00</td>\n",
       "      <td>0.0</td>\n",
       "      <td>0.0</td>\n",
       "      <td>0.0</td>\n",
       "      <td>CHANGE IS COMING...GET READY!!! Boom, Another ...</td>\n",
       "      <td>en</td>\n",
       "    </tr>\n",
       "  </tbody>\n",
       "</table>\n",
       "</div>"
      ],
      "text/plain": [
       "              user               timestamp  replies  likes  retweets  \\\n",
       "0     KamdemAbdiel  2019-05-27 11:49:14+00      0.0    0.0       0.0   \n",
       "1        bitcointe  2019-05-27 11:49:18+00      0.0    0.0       0.0   \n",
       "2        3eyedbran  2019-05-27 11:49:06+00      0.0    2.0       1.0   \n",
       "3    DetroitCrypto  2019-05-27 11:49:22+00      0.0    0.0       0.0   \n",
       "4     mmursaleen72  2019-05-27 11:49:23+00      0.0    0.0       0.0   \n",
       "5         0nurTOKA  2019-05-27 11:49:25+00      0.0    0.0       0.0   \n",
       "6     evilrobotted  2019-05-27 11:49:25+00      0.0    0.0       0.0   \n",
       "7  jabur_guilherme  2019-05-27 11:49:27+00      0.0    0.0       0.0   \n",
       "8         INTBICON  2019-05-27 11:49:32+00      0.0    0.0       0.0   \n",
       "9       MLWright15  2019-05-27 11:49:32+00      0.0    0.0       0.0   \n",
       "\n",
       "                                                text tweet_lang  \n",
       "0  È appena uscito un nuovo video! LES CRYPTOMONN...         it  \n",
       "1  Cardano: Digitize Currencies; EOS https://t.co...         en  \n",
       "2  Another Test tweet that wasn't caught in the s...         en  \n",
       "3  Current Crypto Prices! \\n\\nBTC: $8721.99 USD\\n...         en  \n",
       "4  Spiv (Nosar Baz): BITCOIN Is An Asset &amp; NO...         en  \n",
       "5  #btc inceldiği yerden kopsun bakalım 17:00 ye ...         tr  \n",
       "6  @nwoodfine We have been building on the real #...         en  \n",
       "7  @pedronauck como investidor, vc é um ótimo dev...         pt  \n",
       "8  ブラジルはまぁ置いといてもドイツは存在感出してくるのかな。ロシアもマイニングなどで元気になる...         ja  \n",
       "9  CHANGE IS COMING...GET READY!!! Boom, Another ...         en  "
      ]
     },
     "execution_count": 18,
     "metadata": {},
     "output_type": "execute_result"
    }
   ],
   "source": [
    "df.head(10)"
   ]
  },
  {
   "cell_type": "code",
   "execution_count": 19,
   "id": "93089b57-361e-4bed-a6d1-114f292c4280",
   "metadata": {},
   "outputs": [],
   "source": [
    "df.to_csv('../data/tweets_lang.csv', index=False)"
   ]
  },
  {
   "cell_type": "code",
   "execution_count": 21,
   "id": "f764a8b8-f352-4920-98da-a3286d9b3a7d",
   "metadata": {},
   "outputs": [
    {
     "data": {
      "text/plain": [
       "(20165013, 7)"
      ]
     },
     "execution_count": 21,
     "metadata": {},
     "output_type": "execute_result"
    }
   ],
   "source": [
    "df.shape"
   ]
  },
  {
   "cell_type": "markdown",
   "id": "e47dafb2-d012-4b89-8dc6-59fe0ff0c655",
   "metadata": {},
   "source": [
    "We only want to process English language for this project, so we are filtering the tweets with `en` language and storing it in form of CSV file."
   ]
  },
  {
   "cell_type": "code",
   "execution_count": 2,
   "id": "83d5bd71-3691-453e-9374-277d107ebd31",
   "metadata": {},
   "outputs": [
    {
     "name": "stderr",
     "output_type": "stream",
     "text": [
      "/var/folders/y1/pm6_lt111h92v74z5vt3_vhh0000gn/T/ipykernel_37515/4128199822.py:1: DtypeWarning: Columns (0,1,5,6) have mixed types. Specify dtype option on import or set low_memory=False.\n",
      "  df2 = pd.read_csv('../data/tweets_lang.csv')\n"
     ]
    },
    {
     "data": {
      "text/html": [
       "<div>\n",
       "<style scoped>\n",
       "    .dataframe tbody tr th:only-of-type {\n",
       "        vertical-align: middle;\n",
       "    }\n",
       "\n",
       "    .dataframe tbody tr th {\n",
       "        vertical-align: top;\n",
       "    }\n",
       "\n",
       "    .dataframe thead th {\n",
       "        text-align: right;\n",
       "    }\n",
       "</style>\n",
       "<table border=\"1\" class=\"dataframe\">\n",
       "  <thead>\n",
       "    <tr style=\"text-align: right;\">\n",
       "      <th></th>\n",
       "      <th>user</th>\n",
       "      <th>timestamp</th>\n",
       "      <th>replies</th>\n",
       "      <th>likes</th>\n",
       "      <th>retweets</th>\n",
       "      <th>text</th>\n",
       "      <th>tweet_lang</th>\n",
       "    </tr>\n",
       "  </thead>\n",
       "  <tbody>\n",
       "    <tr>\n",
       "      <th>0</th>\n",
       "      <td>KamdemAbdiel</td>\n",
       "      <td>2019-05-27 11:49:14+00</td>\n",
       "      <td>0.0</td>\n",
       "      <td>0.0</td>\n",
       "      <td>0.0</td>\n",
       "      <td>È appena uscito un nuovo video! LES CRYPTOMONN...</td>\n",
       "      <td>it</td>\n",
       "    </tr>\n",
       "    <tr>\n",
       "      <th>1</th>\n",
       "      <td>bitcointe</td>\n",
       "      <td>2019-05-27 11:49:18+00</td>\n",
       "      <td>0.0</td>\n",
       "      <td>0.0</td>\n",
       "      <td>0.0</td>\n",
       "      <td>Cardano: Digitize Currencies; EOS https://t.co...</td>\n",
       "      <td>en</td>\n",
       "    </tr>\n",
       "    <tr>\n",
       "      <th>2</th>\n",
       "      <td>3eyedbran</td>\n",
       "      <td>2019-05-27 11:49:06+00</td>\n",
       "      <td>0.0</td>\n",
       "      <td>2.0</td>\n",
       "      <td>1.0</td>\n",
       "      <td>Another Test tweet that wasn't caught in the s...</td>\n",
       "      <td>en</td>\n",
       "    </tr>\n",
       "    <tr>\n",
       "      <th>3</th>\n",
       "      <td>DetroitCrypto</td>\n",
       "      <td>2019-05-27 11:49:22+00</td>\n",
       "      <td>0.0</td>\n",
       "      <td>0.0</td>\n",
       "      <td>0.0</td>\n",
       "      <td>Current Crypto Prices! \\n\\nBTC: $8721.99 USD\\n...</td>\n",
       "      <td>en</td>\n",
       "    </tr>\n",
       "    <tr>\n",
       "      <th>4</th>\n",
       "      <td>mmursaleen72</td>\n",
       "      <td>2019-05-27 11:49:23+00</td>\n",
       "      <td>0.0</td>\n",
       "      <td>0.0</td>\n",
       "      <td>0.0</td>\n",
       "      <td>Spiv (Nosar Baz): BITCOIN Is An Asset &amp;amp; NO...</td>\n",
       "      <td>en</td>\n",
       "    </tr>\n",
       "  </tbody>\n",
       "</table>\n",
       "</div>"
      ],
      "text/plain": [
       "            user               timestamp  replies  likes  retweets  \\\n",
       "0   KamdemAbdiel  2019-05-27 11:49:14+00      0.0    0.0       0.0   \n",
       "1      bitcointe  2019-05-27 11:49:18+00      0.0    0.0       0.0   \n",
       "2      3eyedbran  2019-05-27 11:49:06+00      0.0    2.0       1.0   \n",
       "3  DetroitCrypto  2019-05-27 11:49:22+00      0.0    0.0       0.0   \n",
       "4   mmursaleen72  2019-05-27 11:49:23+00      0.0    0.0       0.0   \n",
       "\n",
       "                                                text tweet_lang  \n",
       "0  È appena uscito un nuovo video! LES CRYPTOMONN...         it  \n",
       "1  Cardano: Digitize Currencies; EOS https://t.co...         en  \n",
       "2  Another Test tweet that wasn't caught in the s...         en  \n",
       "3  Current Crypto Prices! \\n\\nBTC: $8721.99 USD\\n...         en  \n",
       "4  Spiv (Nosar Baz): BITCOIN Is An Asset &amp; NO...         en  "
      ]
     },
     "execution_count": 2,
     "metadata": {},
     "output_type": "execute_result"
    }
   ],
   "source": [
    "df2 = pd.read_csv('../data/tweets_lang.csv')\n",
    "\n",
    "df2.head()"
   ]
  },
  {
   "cell_type": "code",
   "execution_count": 4,
   "id": "cf382630-48ec-42ea-a961-0fb313b04d59",
   "metadata": {},
   "outputs": [],
   "source": [
    "df2 = df2[df2['tweet_lang'] == 'en'].reset_index()"
   ]
  },
  {
   "cell_type": "code",
   "execution_count": 5,
   "id": "69eef67b-6c73-4fa1-88d7-0ebd3722b744",
   "metadata": {},
   "outputs": [
    {
     "data": {
      "text/plain": [
       "(13451596, 8)"
      ]
     },
     "execution_count": 5,
     "metadata": {},
     "output_type": "execute_result"
    }
   ],
   "source": [
    "df2.shape"
   ]
  },
  {
   "cell_type": "code",
   "execution_count": 6,
   "id": "0e5af987-2ae3-4f4e-a2f1-1ea55b174766",
   "metadata": {},
   "outputs": [],
   "source": [
    "df2.to_csv('../data/tweets_en.csv', index=False)"
   ]
  },
  {
   "cell_type": "code",
   "execution_count": null,
   "id": "11dcacbe-95d0-4624-9638-c6e0b5bc087b",
   "metadata": {},
   "outputs": [],
   "source": []
  }
 ],
 "metadata": {
  "kernelspec": {
   "display_name": "dm_project",
   "language": "python",
   "name": "dm_project"
  },
  "language_info": {
   "codemirror_mode": {
    "name": "ipython",
    "version": 3
   },
   "file_extension": ".py",
   "mimetype": "text/x-python",
   "name": "python",
   "nbconvert_exporter": "python",
   "pygments_lexer": "ipython3",
   "version": "3.8.13"
  }
 },
 "nbformat": 4,
 "nbformat_minor": 5
}
